{
 "cells": [
  {
   "cell_type": "markdown",
   "metadata": {},
   "source": [
    "##### `Dense with single units and input_dim is working same as we know al;ready for example if `\n",
    "#####  `we process the 5 to network Dense of single units ,inout_dim=1 then its function of sigmoid(W.X+b`\n",
    "#####   `weight and bias will intialise randomly as per the define in tensorflow  let see ...`"
   ]
  },
  {
   "cell_type": "code",
   "execution_count": 40,
   "metadata": {},
   "outputs": [],
   "source": [
    "from tensorflow.keras import layers,Sequential\n",
    "import tensorflow as tf \n",
    "import numpy as np\n",
    "from  tensorflow.keras.layers import Dense  "
   ]
  },
  {
   "cell_type": "markdown",
   "metadata": {},
   "source": [
    "#### `choosing activation as linaer lets see the output based simple return same value `"
   ]
  },
  {
   "cell_type": "code",
   "execution_count": 41,
   "metadata": {},
   "outputs": [
    {
     "name": "stdout",
     "output_type": "stream",
     "text": [
      "Model: \"sequential_9\"\n",
      "_________________________________________________________________\n",
      " Layer (type)                Output Shape              Param #   \n",
      "=================================================================\n",
      " dense_9 (Dense)             (None, 1)                 2         \n",
      "                                                                 \n",
      "=================================================================\n",
      "Total params: 2\n",
      "Trainable params: 2\n",
      "Non-trainable params: 0\n",
      "_________________________________________________________________\n"
     ]
    }
   ],
   "source": [
    "X=np.array([1,2,3,4])\n",
    "model=Sequential()\n",
    "model.add(Dense(units=1,input_dim=1,activation='linear'))\n",
    "model.compile(loss='mse',optimizer='sgd')\n",
    "model.summary()"
   ]
  },
  {
   "cell_type": "code",
   "execution_count": 42,
   "metadata": {},
   "outputs": [
    {
     "name": "stdout",
     "output_type": "stream",
     "text": [
      "layers weight== [array([[0.43910703]], dtype=float32), array([0.56551814], dtype=float32)]\n",
      "WARNING:tensorflow:6 out of the last 13 calls to <function Model.make_predict_function.<locals>.predict_function at 0x7f483c0ea700> triggered tf.function retracing. Tracing is expensive and the excessive number of tracings could be due to (1) creating @tf.function repeatedly in a loop, (2) passing tensors with different shapes, (3) passing Python objects instead of tensors. For (1), please define your @tf.function outside of the loop. For (2), @tf.function has experimental_relax_shapes=True option that relaxes argument shapes that can avoid unnecessary retracing. For (3), please refer to https://www.tensorflow.org/guide/function#controlling_retracing and https://www.tensorflow.org/api_docs/python/tf/function for  more details.\n",
      "Predict of X[0]==1 output== [[1.0046252]]\n",
      "same Prediction using layers weight== [[1.0046252]]\n"
     ]
    }
   ],
   "source": [
    "model.fit(X,X,epochs=10,verbose=0)\n",
    "print('layers weight==',model.layers[0].get_weights())\n",
    "print('Predict of X[0]==1 output==',model.predict([1]))\n",
    "print('same Prediction using layers weight==',1*model.layers[0].get_weights()[0]+model.layers[0].get_weights()[1])"
   ]
  },
  {
   "cell_type": "markdown",
   "metadata": {},
   "source": [
    "#### `choosing activation as Relu lets see the output based `\n",
    "#### `Relu fuction as  max(x,0)`"
   ]
  },
  {
   "cell_type": "code",
   "execution_count": 43,
   "metadata": {},
   "outputs": [
    {
     "name": "stdout",
     "output_type": "stream",
     "text": [
      "Model: \"sequential_10\"\n",
      "_________________________________________________________________\n",
      " Layer (type)                Output Shape              Param #   \n",
      "=================================================================\n",
      " dense_10 (Dense)            (None, 1)                 2         \n",
      "                                                                 \n",
      "=================================================================\n",
      "Total params: 2\n",
      "Trainable params: 2\n",
      "Non-trainable params: 0\n",
      "_________________________________________________________________\n"
     ]
    }
   ],
   "source": [
    "X=np.array([1,2,3,4])\n",
    "model=Sequential()\n",
    "model.add(Dense(units=1,input_dim=1,activation='relu'))\n",
    "model.compile(loss='mse',optimizer='sgd')\n",
    "model.summary()"
   ]
  },
  {
   "cell_type": "code",
   "execution_count": 44,
   "metadata": {},
   "outputs": [
    {
     "name": "stdout",
     "output_type": "stream",
     "text": [
      "layers weight== [array([[0.80588335]], dtype=float32), array([0.19571733], dtype=float32)]\n",
      "Predict of X[0]==1 output== [[1.0016007]]\n",
      "same Prediction using layers weight== [[1.0016007]]\n"
     ]
    }
   ],
   "source": [
    "model.fit(X,X,epochs=10,verbose=0)\n",
    "print('layers weight==',model.layers[0].get_weights())\n",
    "print('Predict of X[0]==1 output==',model.predict([1]))\n",
    "print('same Prediction using layers weight==',1*model.layers[0].get_weights()[0]+model.layers[0].get_weights()[1])"
   ]
  },
  {
   "cell_type": "code",
   "execution_count": 45,
   "metadata": {},
   "outputs": [
    {
     "name": "stdout",
     "output_type": "stream",
     "text": [
      "Model: \"sequential_11\"\n",
      "_________________________________________________________________\n",
      " Layer (type)                Output Shape              Param #   \n",
      "=================================================================\n",
      " dense_11 (Dense)            (None, 1)                 2         \n",
      "                                                                 \n",
      "=================================================================\n",
      "Total params: 2\n",
      "Trainable params: 2\n",
      "Non-trainable params: 0\n",
      "_________________________________________________________________\n"
     ]
    }
   ],
   "source": [
    "X=np.array([1,2,3,4])\n",
    "model=Sequential()\n",
    "model.add(Dense(units=1,input_dim=1,activation='sigmoid'))\n",
    "model.compile(loss='mse',optimizer='sgd')\n",
    "model.summary()"
   ]
  },
  {
   "cell_type": "code",
   "execution_count": 46,
   "metadata": {},
   "outputs": [
    {
     "name": "stdout",
     "output_type": "stream",
     "text": [
      "layers weight== [array([[-1.3903203]], dtype=float32), array([0.01448426], dtype=float32)]\n",
      "Predict of X[0]==1 output== [[0.20167857]]\n",
      "same Prediction using layers weight== tf.Tensor([[0.20167857]], shape=(1, 1), dtype=float32)\n"
     ]
    }
   ],
   "source": [
    "model.fit(X,X,epochs=10,verbose=0)\n",
    "print('layers weight==',model.layers[0].get_weights())\n",
    "print('Predict of X[0]==1 output==',model.predict([1]))\n",
    "print('same Prediction using layers weight==',tf.math.sigmoid(1*model.layers[0].get_weights()[0]+model.layers[0].get_weights()[1]))"
   ]
  },
  {
   "cell_type": "code",
   "execution_count": null,
   "metadata": {},
   "outputs": [],
   "source": []
  }
 ],
 "metadata": {
  "interpreter": {
   "hash": "916dbcbb3f70747c44a77c7bcd40155683ae19c65e1c03b4aa3499c5328201f1"
  },
  "kernelspec": {
   "display_name": "Python 3.9.7 64-bit",
   "language": "python",
   "name": "python3"
  },
  "language_info": {
   "codemirror_mode": {
    "name": "ipython",
    "version": 3
   },
   "file_extension": ".py",
   "mimetype": "text/x-python",
   "name": "python",
   "nbconvert_exporter": "python",
   "pygments_lexer": "ipython3",
   "version": "3.9.7"
  },
  "orig_nbformat": 4
 },
 "nbformat": 4,
 "nbformat_minor": 2
}
